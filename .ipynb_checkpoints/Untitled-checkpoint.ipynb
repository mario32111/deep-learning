{
 "cells": [
  {
   "cell_type": "markdown",
   "id": "82d421cb",
   "metadata": {},
   "source": [
    "Esto es una celda de texto "
   ]
  },
  {
   "cell_type": "code",
   "execution_count": null,
   "id": "aef9043b",
   "metadata": {},
   "outputs": [],
   "source": [
    "print(\"Hola mundo\")"
   ]
  },
  {
   "cell_type": "code",
   "execution_count": null,
   "id": "0772abe0",
   "metadata": {},
   "outputs": [],
   "source": [
    "print(\"Hola mundo 2\")"
   ]
  },
  {
   "cell_type": "code",
   "execution_count": null,
   "id": "5cdff8ea",
   "metadata": {},
   "outputs": [],
   "source": [
    "texto=\"hola mundo\""
   ]
  },
  {
   "cell_type": "code",
   "execution_count": null,
   "id": "8656c73b",
   "metadata": {},
   "outputs": [],
   "source": [
    "print(\"Esto es una celda nueva\")"
   ]
  },
  {
   "cell_type": "code",
   "execution_count": null,
   "id": "ef788339",
   "metadata": {},
   "outputs": [],
   "source": [
    "print(\"Esto es una celda nueva\")"
   ]
  },
  {
   "cell_type": "code",
   "execution_count": null,
   "id": "1dabe39b",
   "metadata": {},
   "outputs": [],
   "source": [
    "print(texto)"
   ]
  }
 ],
 "metadata": {
  "kernelspec": {
   "display_name": "Python 3 (ipykernel)",
   "language": "python",
   "name": "python3"
  },
  "language_info": {
   "codemirror_mode": {
    "name": "ipython",
    "version": 3
   },
   "file_extension": ".py",
   "mimetype": "text/x-python",
   "name": "python",
   "nbconvert_exporter": "python",
   "pygments_lexer": "ipython3",
   "version": "3.8.18"
  }
 },
 "nbformat": 4,
 "nbformat_minor": 5
}

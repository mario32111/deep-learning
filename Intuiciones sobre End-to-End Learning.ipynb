{
 "cells": [
  {
   "cell_type": "markdown",
   "metadata": {},
   "source": [
    "## 1. Conjunto de datos"
   ]
  },
  {
   "cell_type": "code",
   "execution_count": 12,
   "metadata": {},
   "outputs": [],
   "source": [
    "from tensorflow.keras import datasets"
   ]
  },
  {
   "cell_type": "code",
   "execution_count": 13,
   "metadata": {},
   "outputs": [],
   "source": [
    "fashion_mnist = datasets.fashion_mnist"
   ]
  },
  {
   "cell_type": "code",
   "execution_count": 14,
   "metadata": {},
   "outputs": [],
   "source": [
    "(X_train, y_train), (X_test, y_test) = fashion_mnist.load_data()"
   ]
  },
  {
   "cell_type": "markdown",
   "metadata": {},
   "source": [
    "## 2. Visualización del conjunto de datos"
   ]
  },
  {
   "cell_type": "code",
   "execution_count": 15,
   "metadata": {},
   "outputs": [
    {
     "data": {
      "image/png": "[encoded data removed]",
      "text/plain": [
       "<Figure size 2000x400 with 8 Axes>"
      ]
     },
     "metadata": {},
     "output_type": "display_data"
    }
   ],
   "source": [
    "import numpy as np\n",
    "import matplotlib.pyplot as plt\n",
    "\n",
    "plt.figure(figsize=(20, 4))\n",
    "\n",
    "for index, img in zip(range(1, 9), X_train[:8]):\n",
    "    plt.subplot(1, 8, index)\n",
    "    plt.imshow(img, cmap=plt.cm.gray)\n",
    "    plt.title('Ejemplo: ' + str(index))\n",
    "plt.show()"
   ]
  },
  {
   "cell_type": "code",
   "execution_count": 16,
   "metadata": {},
   "outputs": [
    {
     "name": "stdout",
     "output_type": "stream",
     "text": [
      "Longitud subconjunto de entrenamiento:  60000\n",
      "Longitud subconjunto de pruebas:  10000\n"
     ]
    }
   ],
   "source": [
    "print(\"Longitud subconjunto de entrenamiento: \", len(X_train))\n",
    "print(\"Longitud subconjunto de pruebas: \", len(X_test))"
   ]
  },
  {
   "cell_type": "markdown",
   "metadata": {},
   "source": [
    "## 3. Transformación del conjunto de datos"
   ]
  },
  {
   "cell_type": "code",
   "execution_count": 17,
   "metadata": {},
   "outputs": [],
   "source": [
    "#tomar las imagnes y transformarlas en un unico veector de longitud 28*28, normalizar el valor de los pixeles\n",
    "X_train_prep = X_train.reshape((60000, 28*28))\n",
    "X_test_prep = X_test.reshape((10000, 28*28))"
   ]
  },
  {
   "cell_type": "code",
   "execution_count": 18,
   "metadata": {},
   "outputs": [],
   "source": [
    "from sklearn.preprocessing import Normalizer\n",
    "\n",
    "transformer = Normalizer()\n",
    "X_train_prep = transformer.fit_transform(X_train_prep)\n",
    "X_test_prep = transformer.transform(X_test_prep)"
   ]
  },
  {
   "cell_type": "code",
   "execution_count": 19,
   "metadata": {},
   "outputs": [],
   "source": [
    "#\n",
    "from tensorflow.keras.utils import to_categorical\n",
    "\n",
    "y_train_prep = to_categorical(y_train)\n",
    "y_test_prep = to_categorical(y_test)"
   ]
  },
  {
   "cell_type": "markdown",
   "metadata": {},
   "source": [
    "## 4. Construcción del modelo"
   ]
  },
  {
   "cell_type": "code",
   "execution_count": 23,
   "metadata": {},
   "outputs": [],
   "source": [
    "#entrrnar la RNA de 4 capas, una de 300 neuronas, un de 100 y una de 19, y la primera capa (input layer) que son las caracteristicas de entrada\n",
    "#osea el valor de los pixeles\n",
    "from tensorflow.keras import models\n",
    "from tensorflow.keras import layers\n",
    "\n",
    "network = models.Sequential()\n",
    "\n",
    "network.add(layers.Dense(300, activation='relu', input_shape=(28*28,)))\n",
    "network.add(layers.Dense(100, activation='relu'))\n",
    "network.add(layers.Dense(10, activation='softmax'))"
   ]
  },
  {
   "cell_type": "code",
   "execution_count": 24,
   "metadata": {},
   "outputs": [],
   "source": [
    "network.compile(loss='categorical_crossentropy',\n",
    "                optimizer='adam',\n",
    "                metrics=['accuracy', 'Precision'])"
   ]
  },
  {
   "cell_type": "code",
   "execution_count": 25,
   "metadata": {},
   "outputs": [
    {
     "name": "stdout",
     "output_type": "stream",
     "text": [
      "Epoch 1/15\n",
      "\u001b[1m1875/1875\u001b[0m \u001b[32m━━━━━━━━━━━━━━━━━━━━\u001b[0m\u001b[37m\u001b[0m \u001b[1m45s\u001b[0m 21ms/step - Precision: 0.8456 - accuracy: 0.7551 - loss: 0.7066 - val_Precision: 0.8837 - val_accuracy: 0.8508 - val_loss: 0.4195\n",
      "Epoch 2/15\n",
      "\u001b[1m1875/1875\u001b[0m \u001b[32m━━━━━━━━━━━━━━━━━━━━\u001b[0m\u001b[37m\u001b[0m \u001b[1m43s\u001b[0m 22ms/step - Precision: 0.8877 - accuracy: 0.8596 - loss: 0.3803 - val_Precision: 0.8899 - val_accuracy: 0.8623 - val_loss: 0.3771\n",
      "Epoch 3/15\n",
      "\u001b[1m1875/1875\u001b[0m \u001b[32m━━━━━━━━━━━━━━━━━━━━\u001b[0m\u001b[37m\u001b[0m \u001b[1m31s\u001b[0m 16ms/step - Precision: 0.8985 - accuracy: 0.8743 - loss: 0.3378 - val_Precision: 0.8949 - val_accuracy: 0.8704 - val_loss: 0.3625\n",
      "Epoch 4/15\n",
      "\u001b[1m1875/1875\u001b[0m \u001b[32m━━━━━━━━━━━━━━━━━━━━\u001b[0m\u001b[37m\u001b[0m \u001b[1m40s\u001b[0m 16ms/step - Precision: 0.9058 - accuracy: 0.8845 - loss: 0.3109 - val_Precision: 0.8972 - val_accuracy: 0.8797 - val_loss: 0.3378\n",
      "Epoch 5/15\n",
      "\u001b[1m1875/1875\u001b[0m \u001b[32m━━━━━━━━━━━━━━━━━━━━\u001b[0m\u001b[37m\u001b[0m \u001b[1m39s\u001b[0m 15ms/step - Precision: 0.9105 - accuracy: 0.8903 - loss: 0.2936 - val_Precision: 0.8970 - val_accuracy: 0.8770 - val_loss: 0.3383\n",
      "Epoch 6/15\n",
      "\u001b[1m1875/1875\u001b[0m \u001b[32m━━━━━━━━━━━━━━━━━━━━\u001b[0m\u001b[37m\u001b[0m \u001b[1m41s\u001b[0m 15ms/step - Precision: 0.9173 - accuracy: 0.8990 - loss: 0.2706 - val_Precision: 0.9003 - val_accuracy: 0.8829 - val_loss: 0.3259\n",
      "Epoch 7/15\n",
      "\u001b[1m1875/1875\u001b[0m \u001b[32m━━━━━━━━━━━━━━━━━━━━\u001b[0m\u001b[37m\u001b[0m \u001b[1m40s\u001b[0m 15ms/step - Precision: 0.9188 - accuracy: 0.9030 - loss: 0.2566 - val_Precision: 0.9012 - val_accuracy: 0.8833 - val_loss: 0.3259\n",
      "Epoch 8/15\n",
      "\u001b[1m1875/1875\u001b[0m \u001b[32m━━━━━━━━━━━━━━━━━━━━\u001b[0m\u001b[37m\u001b[0m \u001b[1m35s\u001b[0m 19ms/step - Precision: 0.9241 - accuracy: 0.9082 - loss: 0.2459 - val_Precision: 0.9000 - val_accuracy: 0.8839 - val_loss: 0.3205\n",
      "Epoch 9/15\n",
      "\u001b[1m1875/1875\u001b[0m \u001b[32m━━━━━━━━━━━━━━━━━━━━\u001b[0m\u001b[37m\u001b[0m \u001b[1m31s\u001b[0m 16ms/step - Precision: 0.9263 - accuracy: 0.9130 - loss: 0.2315 - val_Precision: 0.9120 - val_accuracy: 0.8953 - val_loss: 0.3035\n",
      "Epoch 10/15\n",
      "\u001b[1m1875/1875\u001b[0m \u001b[32m━━━━━━━━━━━━━━━━━━━━\u001b[0m\u001b[37m\u001b[0m \u001b[1m39s\u001b[0m 15ms/step - Precision: 0.9273 - accuracy: 0.9143 - loss: 0.2292 - val_Precision: 0.9010 - val_accuracy: 0.8877 - val_loss: 0.3204\n",
      "Epoch 11/15\n",
      "\u001b[1m1875/1875\u001b[0m \u001b[32m━━━━━━━━━━━━━━━━━━━━\u001b[0m\u001b[37m\u001b[0m \u001b[1m26s\u001b[0m 14ms/step - Precision: 0.9308 - accuracy: 0.9203 - loss: 0.2133 - val_Precision: 0.8967 - val_accuracy: 0.8865 - val_loss: 0.3325\n",
      "Epoch 12/15\n",
      "\u001b[1m1875/1875\u001b[0m \u001b[32m━━━━━━━━━━━━━━━━━━━━\u001b[0m\u001b[37m\u001b[0m \u001b[1m41s\u001b[0m 14ms/step - Precision: 0.9314 - accuracy: 0.9197 - loss: 0.2102 - val_Precision: 0.8999 - val_accuracy: 0.8893 - val_loss: 0.3239\n",
      "Epoch 13/15\n",
      "\u001b[1m1875/1875\u001b[0m \u001b[32m━━━━━━━━━━━━━━━━━━━━\u001b[0m\u001b[37m\u001b[0m \u001b[1m29s\u001b[0m 15ms/step - Precision: 0.9374 - accuracy: 0.9261 - loss: 0.1957 - val_Precision: 0.9019 - val_accuracy: 0.8894 - val_loss: 0.3213\n",
      "Epoch 14/15\n",
      "\u001b[1m1875/1875\u001b[0m \u001b[32m━━━━━━━━━━━━━━━━━━━━\u001b[0m\u001b[37m\u001b[0m \u001b[1m40s\u001b[0m 15ms/step - Precision: 0.9397 - accuracy: 0.9307 - loss: 0.1826 - val_Precision: 0.9067 - val_accuracy: 0.8965 - val_loss: 0.3156\n",
      "Epoch 15/15\n",
      "\u001b[1m1875/1875\u001b[0m \u001b[32m━━━━━━━━━━━━━━━━━━━━\u001b[0m\u001b[37m\u001b[0m \u001b[1m28s\u001b[0m 15ms/step - Precision: 0.9397 - accuracy: 0.9310 - loss: 0.1814 - val_Precision: 0.9040 - val_accuracy: 0.8917 - val_loss: 0.3344\n"
     ]
    }
   ],
   "source": [
    "history = network.fit(X_train_prep, \n",
    "                      y_train_prep,\n",
    "                      batch_size=32,\n",
    "                      epochs=15, \n",
    "                      validation_data=(X_test_prep, y_test_prep))"
   ]
  },
  {
   "cell_type": "code",
   "execution_count": 61,
   "metadata": {},
   "outputs": [
    {
     "name": "stdout",
     "output_type": "stream",
     "text": [
      "\u001b[1m1/1\u001b[0m \u001b[32m━━━━━━━━━━━━━━━━━━━━\u001b[0m\u001b[37m\u001b[0m \u001b[1m0s\u001b[0m 494ms/step\n",
      "La imagen parece ser: Shirt\n"
     ]
    }
   ],
   "source": [
    "import numpy as np\n",
    "from PIL import Image\n",
    "from sklearn.preprocessing import Normalizer\n",
    "import cv2\n",
    "import numpy as np\n",
    "from matplotlib import pyplot as plt\n",
    "\n",
    "def quitar_fondo(imagen_ruta, output_ruta='output_sin_fondo.png'):\n",
    "    # Cargar imagen\n",
    "    img = cv2.imread(imagen_ruta)\n",
    "    img_rgb = cv2.cvtColor(img, cv2.COLOR_BGR2RGB)\n",
    "\n",
    "    # Crear máscara para grabCut\n",
    "    mask = np.zeros(img.shape[:2], np.uint8)\n",
    "\n",
    "    # Crear modelos temporales (obligatorios)\n",
    "    bgdModel = np.zeros((1, 65), np.float64)\n",
    "    fgdModel = np.zeros((1, 65), np.float64)\n",
    "\n",
    "    # Selección del rectángulo (puedes ajustar si el objeto no está centrado)\n",
    "    height, width = img.shape[:2]\n",
    "    rect = (10, 10, width-20, height-20)  # (x, y, w, h)\n",
    "\n",
    "    # Aplicar GrabCut\n",
    "    cv2.grabCut(img, mask, rect, bgdModel, fgdModel, 5, cv2.GC_INIT_WITH_RECT)\n",
    "\n",
    "    # Convertir máscara a binaria: 0 y 2 fondo, 1 y 3 primer plano\n",
    "    mask2 = np.where((mask==2)|(mask==0), 0, 1).astype('uint8')\n",
    "\n",
    "    # Aplicar máscara a la imagen original\n",
    "    img_sin_fondo = img_rgb * mask2[:, :, np.newaxis]\n",
    "\n",
    "    # Guardar resultado\n",
    "    cv2.imwrite(output_ruta, cv2.cvtColor(img_sin_fondo, cv2.COLOR_RGB2BGR))\n",
    "\n",
    "# Ejemplo de uso\n",
    "quitar_fondo('prendas/camisas.png', 'bad_fondo.png')\n",
    "\n",
    "# 1. Cargar la imagen (ajusta el nombre del archivo si es diferente)\n",
    "img = Image.open('bad_fondo.png').convert('L')  # Convertir a escala de grises\n",
    "img = img.resize((28, 28))                   # Redimensionar a 28x28\n",
    "\n",
    "# 2. Convertir imagen a un vector de 784 valores\n",
    "img_array = np.array(img)\n",
    "img_vector = img_array.reshape(1, 28 * 28)\n",
    "\n",
    "# 3. Normalizar la imagen como hiciste con el conjunto de entrenamiento\n",
    "transformer = Normalizer()\n",
    "transformer.fit(X_train.reshape((60000, 28*28)))  # Entrenamiento igual al original\n",
    "img_vector = transformer.transform(img_vector)\n",
    "\n",
    "# 4. Predecir con el modelo\n",
    "prediction = network.predict(img_vector)\n",
    "predicted_class = np.argmax(prediction)\n",
    "\n",
    "# 5. Mostrar resultado\n",
    "labels = [\n",
    "    'T-shirt/top', 'Trouser', 'Pullover', 'Dress', 'Coat',\n",
    "    'Sandal', 'Shirt', 'Sneaker', 'Bag', 'Ankle boot'\n",
    "]\n",
    "print(f'La imagen parece ser: {labels[predicted_class]}')\n"
   ]
  },
  {
   "cell_type": "code",
   "execution_count": null,
   "metadata": {},
   "outputs": [],
   "source": []
  }
 ],
 "metadata": {
  "kernelspec": {
   "display_name": "Python 3 (ipykernel)",
   "language": "python",
   "name": "python3"
  },
  "language_info": {
   "codemirror_mode": {
    "name": "ipython",
    "version": 3
   },
   "file_extension": ".py",
   "mimetype": "text/x-python",
   "name": "python",
   "nbconvert_exporter": "python",
   "pygments_lexer": "ipython3",
   "version": "3.9.21"
  }
 },
 "nbformat": 4,
 "nbformat_minor": 4
}

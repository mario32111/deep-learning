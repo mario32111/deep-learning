{
 "cells": [
  {
   "cell_type": "markdown",
   "metadata": {},
   "source": [
    "# Introducción a NumPy"
   ]
  },
  {
   "cell_type": "markdown",
   "metadata": {},
   "source": [
    "[Numpy](https://numpy.org) es una librería fundamental para la computación científica con Python.\n",
    "* Proporciona arrays N-dimensionales\n",
    "* Implementa funciones matemáticas sofisticadas\n",
    "* Proporciona herramientas para integrar C/C++ y Fortran\n",
    "* Proporciona mecanismos para facilitar la realización de tareas relacionadas con álgebra lineal o números aleatorios"
   ]
  },
  {
   "cell_type": "markdown",
   "metadata": {},
   "source": [
    "# Introducción a NumPy"
   ]
  },
  {
   "cell_type": "markdown",
   "metadata": {},
   "source": [
    "[Numpy](https://numpy.org) es una librería fundamental para la computación científica con Python.\n",
    "* Proporciona arrays N-dimensionales\n",
    "* Implementa funciones matemáticas sofisticadas\n",
    "* Proporciona herramientas para integrar C/C++ y Fortran\n",
    "* Proporciona mecanismos para facilitar la realización de tareas relacionadas con álgebra lineal o números aleatorios"
   ]
  },
  {
   "cell_type": "markdown",
   "metadata": {},
   "source": [
    "## Imports"
   ]
  },
  {
   "cell_type": "code",
   "execution_count": 18,
   "metadata": {},
   "outputs": [],
   "source": [
    "import numpy as np"
   ]
  },
  {
   "cell_type": "markdown",
   "metadata": {},
   "source": [
    "## Arrays"
   ]
  },
  {
   "cell_type": "markdown",
   "metadata": {},
   "source": [
    "Un **array** es una estructura de datos que consiste en una colección de elementos (valores o variables), cada uno identificado por al menos un índice o clave. Un array se almacena de modo que la posición de cada elemento se pueda calcular a partir de su tupla de índice mediante una fórmula matemática. El tipo más simple de array es un array lineal, también llamado array unidimensional."
   ]
  },
  {
   "cell_type": "markdown",
   "metadata": {},
   "source": [
    "En numpy:\n",
    "* Cada dimensión se denomina **axis**\n",
    "* El número de dimensiones se denomina **rank**\n",
    "* La lista de dimensiones con su correspondiente longitud se denomina **shape**\n",
    "* El número total de elementos (multiplicación de la longitud de las dimensiones) se denomina **size**"
   ]
  },
  {
   "cell_type": "code",
   "execution_count": 19,
   "metadata": {},
   "outputs": [],
   "source": [
    "a = np.zeros((2,4))"
   ]
  },
  {
   "cell_type": "markdown",
   "metadata": {},
   "source": [
    "_**a**_ es un array:\n",
    "* Con dos **axis**, el primero de longitud 2 y el segundo de longitud 4\n",
    "* Con un **rank** igual a 2\n",
    "* Con un **shape** igual (2, 4)\n",
    "* Con un **size** igual a 8"
   ]
  },
  {
   "cell_type": "code",
   "execution_count": 20,
   "metadata": {},
   "outputs": [
    {
     "data": {
      "text/plain": [
       "(2, 4)"
      ]
     },
     "execution_count": 20,
     "metadata": {},
     "output_type": "execute_result"
    }
   ],
   "source": [
    "a.shape"
   ]
  },
  {
   "cell_type": "code",
   "execution_count": 21,
   "metadata": {},
   "outputs": [
    {
     "data": {
      "text/plain": [
       "2"
      ]
     },
     "execution_count": 21,
     "metadata": {},
     "output_type": "execute_result"
    }
   ],
   "source": [
    "a.ndim"
   ]
  },
  {
   "cell_type": "code",
   "execution_count": 22,
   "metadata": {},
   "outputs": [
    {
     "data": {
      "text/plain": [
       "8"
      ]
     },
     "execution_count": 22,
     "metadata": {},
     "output_type": "execute_result"
    }
   ],
   "source": [
    "a.size"
   ]
  },
  {
   "cell_type": "markdown",
   "metadata": {},
   "source": [
    "## Creación de Arrays"
   ]
  },
  {
   "cell_type": "code",
   "execution_count": 23,
   "metadata": {},
   "outputs": [
    {
     "data": {
      "text/plain": [
       "array([[[0., 0., 0., 0.],\n",
       "        [0., 0., 0., 0.],\n",
       "        [0., 0., 0., 0.]],\n",
       "\n",
       "       [[0., 0., 0., 0.],\n",
       "        [0., 0., 0., 0.],\n",
       "        [0., 0., 0., 0.]]])"
      ]
     },
     "execution_count": 23,
     "metadata": {},
     "output_type": "execute_result"
    }
   ],
   "source": [
    "# Array cuyos valores son todos 0\n",
    "np.zeros((2,3,4))"
   ]
  },
  {
   "cell_type": "code",
   "execution_count": 24,
   "metadata": {},
   "outputs": [
    {
     "data": {
      "text/plain": [
       "array([[[1., 1., 1., 1.],\n",
       "        [1., 1., 1., 1.],\n",
       "        [1., 1., 1., 1.]],\n",
       "\n",
       "       [[1., 1., 1., 1.],\n",
       "        [1., 1., 1., 1.],\n",
       "        [1., 1., 1., 1.]]])"
      ]
     },
     "execution_count": 24,
     "metadata": {},
     "output_type": "execute_result"
    }
   ],
   "source": [
    "# Array cuyos valores son todos 1\n",
    "np.ones((2, 3, 4))"
   ]
  },
  {
   "cell_type": "code",
   "execution_count": 25,
   "metadata": {},
   "outputs": [
    {
     "data": {
      "text/plain": [
       "array([[[10, 10, 10, 10],\n",
       "        [10, 10, 10, 10],\n",
       "        [10, 10, 10, 10]],\n",
       "\n",
       "       [[10, 10, 10, 10],\n",
       "        [10, 10, 10, 10],\n",
       "        [10, 10, 10, 10]]])"
      ]
     },
     "execution_count": 25,
     "metadata": {},
     "output_type": "execute_result"
    }
   ],
   "source": [
    "# Array cuyos valores son todos el valor indicado como segundo parámetro de la función\n",
    "np.full((2, 3, 4), 10)"
   ]
  },
  {
   "cell_type": "code",
   "execution_count": 26,
   "metadata": {},
   "outputs": [
    {
     "data": {
      "text/plain": [
       "array([[[1.15487651e-311, 1.15485527e-311, 1.15486000e-311,\n",
       "         1.15485487e-311, 1.15486000e-311, 1.15485487e-311,\n",
       "         1.15486000e-311, 1.15485478e-311, 1.15485478e-311],\n",
       "        [1.15486000e-311, 1.15485487e-311, 1.15486000e-311,\n",
       "         1.15485487e-311, 1.15486000e-311, 1.15485478e-311,\n",
       "         1.15485478e-311, 1.15486000e-311, 1.15485487e-311],\n",
       "        [1.15486000e-311, 1.15485478e-311, 0.00000000e+000,\n",
       "         2.92747705e-306, 1.15488707e-311, 1.15485507e-311,\n",
       "         0.00000000e+000, 0.00000000e+000, 0.00000000e+000]],\n",
       "\n",
       "       [[0.00000000e+000, 0.00000000e+000, 0.00000000e+000,\n",
       "         0.00000000e+000, 0.00000000e+000, 0.00000000e+000,\n",
       "         0.00000000e+000, 0.00000000e+000, 0.00000000e+000],\n",
       "        [0.00000000e+000, 0.00000000e+000, 0.00000000e+000,\n",
       "         0.00000000e+000, 0.00000000e+000, 0.00000000e+000,\n",
       "         0.00000000e+000, 0.00000000e+000, 0.00000000e+000],\n",
       "        [0.00000000e+000, 0.00000000e+000, 0.00000000e+000,\n",
       "         0.00000000e+000, 0.00000000e+000, 0.00000000e+000,\n",
       "         0.00000000e+000, 0.00000000e+000, 0.00000000e+000]]])"
      ]
     },
     "execution_count": 26,
     "metadata": {},
     "output_type": "execute_result"
    }
   ],
   "source": [
    "# El resultado de np.empty no es predecible \n",
    "# Inicializa los valores del array con lo que haya en memoria en ese momento\n",
    "np.empty((2, 3, 9))"
   ]
  },
  {
   "cell_type": "code",
   "execution_count": 27,
   "metadata": {},
   "outputs": [
    {
     "data": {
      "text/plain": [
       "array([[1, 2, 3],\n",
       "       [4, 5, 6]])"
      ]
     },
     "execution_count": 27,
     "metadata": {},
     "output_type": "execute_result"
    }
   ],
   "source": [
    "# Inicializacion del array utilizando un array de Python\n",
    "b = np.array([[1, 2, 3], [4, 5, 6]])\n",
    "b"
   ]
  },
  {
   "cell_type": "code",
   "execution_count": 28,
   "metadata": {},
   "outputs": [
    {
     "data": {
      "text/plain": [
       "(2, 3)"
      ]
     },
     "execution_count": 28,
     "metadata": {},
     "output_type": "execute_result"
    }
   ],
   "source": [
    "b.shape"
   ]
  },
  {
   "cell_type": "code",
   "execution_count": 29,
   "metadata": {},
   "outputs": [
    {
     "name": "stdout",
     "output_type": "stream",
     "text": [
      "[0.         0.66666667 1.33333333 2.         2.66666667 3.33333333\n",
      " 4.         4.66666667 5.33333333 6.        ]\n"
     ]
    }
   ],
   "source": [
    "# Creación del array utilizando una función basada en rangos, es una progrecion proporcional\n",
    "# (minimo, maximo, número elementos del array)\n",
    "print(np.linspace(0, 6, 10))"
   ]
  },
  {
   "cell_type": "code",
   "execution_count": 33,
   "metadata": {},
   "outputs": [
    {
     "data": {
      "text/plain": [
       "array([[[3.27544373e-01, 1.30738856e-01, 5.30003796e-05, 2.94001269e-01],\n",
       "        [5.31319439e-01, 2.48682679e-01, 5.45787232e-01, 5.79445210e-01],\n",
       "        [9.77832491e-02, 8.71189367e-03, 9.37152176e-01, 5.41256747e-01]],\n",
       "\n",
       "       [[6.10536391e-01, 2.27182338e-01, 4.20925867e-02, 6.10661207e-01],\n",
       "        [9.85907480e-01, 2.33288307e-01, 5.49149091e-01, 3.39521132e-01],\n",
       "        [2.81554339e-01, 3.99087466e-01, 4.31638744e-01, 7.99116201e-01]]])"
      ]
     },
     "execution_count": 33,
     "metadata": {},
     "output_type": "execute_result"
    }
   ],
   "source": [
    "# Inicialización del array con valores aleatorios\n",
    "np.random.rand(2, 3, 4)"
   ]
  },
  {
   "cell_type": "code",
   "execution_count": 37,
   "metadata": {},
   "outputs": [
    {
     "data": {
      "text/plain": [
       "array([[ 1.50294879, -0.08747373, -0.06102086, -1.01397384],\n",
       "       [-2.53517567,  0.09450028, -0.90907671, -0.84625351]])"
      ]
     },
     "execution_count": 37,
     "metadata": {},
     "output_type": "execute_result"
    }
   ],
   "source": [
    "# Inicialización del array con valores aleatorios conforme a una distribución normal\n",
    "np.random.randn(2, 4)"
   ]
  },
  {
   "cell_type": "code",
   "execution_count": 40,
   "metadata": {},
   "outputs": [
    {
     "data": {
      "image/png": "[encoded data removed]",
      "text/plain": [
       "<Figure size 640x480 with 1 Axes>"
      ]
     },
     "metadata": {},
     "output_type": "display_data"
    }
   ],
   "source": [
    "%matplotlib inline\n",
    "import matplotlib.pyplot as plt\n",
    "\n",
    "c = np.random.randn(1000000)\n",
    "\n",
    "plt.hist(c, bins=200)\n",
    "plt.show()"
   ]
  },
  {
   "cell_type": "code",
   "execution_count": 41,
   "metadata": {},
   "outputs": [
    {
     "data": {
      "text/plain": [
       "array([[ 0.,  2.,  4.,  6.,  8.],\n",
       "       [ 1.,  3.,  5.,  7.,  9.],\n",
       "       [ 2.,  4.,  6.,  8., 10.]])"
      ]
     },
     "execution_count": 41,
     "metadata": {},
     "output_type": "execute_result"
    }
   ],
   "source": [
    "# Inicialización del Array utilizando una función personalizada\n",
    "\n",
    "def func(x, y):\n",
    "    return x + 2 * y\n",
    "\n",
    "np.fromfunction(func, (3, 5))"
   ]
  },
  {
   "cell_type": "markdown",
   "metadata": {},
   "source": [
    "## Acceso a los elementos de un array"
   ]
  },
  {
   "cell_type": "markdown",
   "metadata": {},
   "source": [
    "### Array unidimensional"
   ]
  },
  {
   "cell_type": "code",
   "execution_count": 42,
   "metadata": {},
   "outputs": [
    {
     "name": "stdout",
     "output_type": "stream",
     "text": [
      "Shape: (6,)\n",
      "Array_uni: [ 1  3  5  7  9 11]\n"
     ]
    }
   ],
   "source": [
    "# Creación de un Array unidimensional\n",
    "array_uni = np.array([1, 3, 5, 7, 9, 11])\n",
    "print(\"Shape:\", array_uni.shape)\n",
    "print(\"Array_uni:\", array_uni)"
   ]
  },
  {
   "cell_type": "code",
   "execution_count": 43,
   "metadata": {},
   "outputs": [
    {
     "data": {
      "text/plain": [
       "np.int64(9)"
      ]
     },
     "execution_count": 43,
     "metadata": {},
     "output_type": "execute_result"
    }
   ],
   "source": [
    "# Accediendo al quinto elemento del Array\n",
    "array_uni[4]"
   ]
  },
  {
   "cell_type": "code",
   "execution_count": 44,
   "metadata": {},
   "outputs": [
    {
     "data": {
      "text/plain": [
       "array([5, 7])"
      ]
     },
     "execution_count": 44,
     "metadata": {},
     "output_type": "execute_result"
    }
   ],
   "source": [
    "# Accediendo al tercer y cuarto elemento del Array\n",
    "array_uni[2:4]"
   ]
  },
  {
   "cell_type": "code",
   "execution_count": 45,
   "metadata": {},
   "outputs": [
    {
     "data": {
      "text/plain": [
       "array([1, 7])"
      ]
     },
     "execution_count": 45,
     "metadata": {},
     "output_type": "execute_result"
    }
   ],
   "source": [
    "# Accediendo a los elementos 0, 3 y 5 del Array\n",
    "array_uni[0::3]"
   ]
  },
  {
   "cell_type": "markdown",
   "metadata": {},
   "source": [
    "### Array multidimensional"
   ]
  },
  {
   "cell_type": "code",
   "execution_count": 47,
   "metadata": {},
   "outputs": [
    {
     "name": "stdout",
     "output_type": "stream",
     "text": [
      "Shape: (2, 4)\n",
      "Array_multi:\n",
      " [[1 2 3 4]\n",
      " [5 6 7 8]]\n"
     ]
    }
   ],
   "source": [
    "# Creación de un Array multidimensional\n",
    "array_multi = np.array([[1, 2, 3, 4], [5, 6, 7, 8]])\n",
    "print(\"Shape:\", array_multi.shape)\n",
    "print(\"Array_multi:\\n\", array_multi)"
   ]
  },
  {
   "cell_type": "code",
   "execution_count": 48,
   "metadata": {},
   "outputs": [
    {
     "data": {
      "text/plain": [
       "np.int64(4)"
      ]
     },
     "execution_count": 48,
     "metadata": {},
     "output_type": "execute_result"
    }
   ],
   "source": [
    "# Accediendo al cuarto elemento del Array\n",
    "array_multi[0, 3]"
   ]
  },
  {
   "cell_type": "code",
   "execution_count": 49,
   "metadata": {},
   "outputs": [
    {
     "data": {
      "text/plain": [
       "array([5, 6, 7, 8])"
      ]
     },
     "execution_count": 49,
     "metadata": {},
     "output_type": "execute_result"
    }
   ],
   "source": [
    "# Accediendo a la segunda fila del Array\n",
    "array_multi[1,:]"
   ]
  },
  {
   "cell_type": "code",
   "execution_count": 50,
   "metadata": {},
   "outputs": [
    {
     "data": {
      "text/plain": [
       "array([3, 7])"
      ]
     },
     "execution_count": 50,
     "metadata": {},
     "output_type": "execute_result"
    }
   ],
   "source": [
    "# Accediendo al tercer elemento de las dos primeras filas del Array\n",
    "array_multi[0:2, 2]"
   ]
  },
  {
   "cell_type": "markdown",
   "metadata": {},
   "source": [
    "## Modificación de un Array"
   ]
  },
  {
   "cell_type": "code",
   "execution_count": 51,
   "metadata": {},
   "outputs": [
    {
     "name": "stdout",
     "output_type": "stream",
     "text": [
      "Shape: (28,)\n",
      "Array 1: [ 0  1  2  3  4  5  6  7  8  9 10 11 12 13 14 15 16 17 18 19 20 21 22 23\n",
      " 24 25 26 27]\n"
     ]
    }
   ],
   "source": [
    "# Creación de un Array unidimensional inicializado con el rango de elementos 0-27\n",
    "array1 = np.arange(28)\n",
    "print(\"Shape:\", array1.shape)\n",
    "print(\"Array 1:\", array1)"
   ]
  },
  {
   "cell_type": "code",
   "execution_count": 56,
   "metadata": {},
   "outputs": [
    {
     "name": "stdout",
     "output_type": "stream",
     "text": [
      "Shape: (7, 4)\n",
      "Array 1:\n",
      " [[ 0  1  2  3]\n",
      " [ 4  5  6  7]\n",
      " [ 8  9 10 11]\n",
      " [12 13 14 15]\n",
      " [16 17 18 19]\n",
      " [20 21 22 23]\n",
      " [24 25 26 27]]\n"
     ]
    }
   ],
   "source": [
    "# Cambiar las dimensiones del Array y sus longitudes\n",
    "array1.shape = (7, 4)\n",
    "print(\"Shape:\", array1.shape)\n",
    "print(\"Array 1:\\n\", array1)"
   ]
  },
  {
   "cell_type": "code",
   "execution_count": 58,
   "metadata": {},
   "outputs": [
    {
     "name": "stdout",
     "output_type": "stream",
     "text": [
      "Shape: (4, 7)\n",
      "Array 2:\n",
      " [[ 0  1  2  3  4  5  6]\n",
      " [ 7  8  9 10 11 12 13]\n",
      " [14 15 16 17 18 19 20]\n",
      " [21 22 23 24 25 26 27]]\n"
     ]
    }
   ],
   "source": [
    "# El ejemplo anterior devuelve un nuevo Array que apunta a los mismos datos. \n",
    "# Importante: Modificaciones en un Array, modificaran el otro Array\n",
    "array2 = array1.reshape(4, 7)\n",
    "print(\"Shape:\", array2.shape)\n",
    "print(\"Array 2:\\n\", array2)"
   ]
  },
  {
   "cell_type": "code",
   "execution_count": 59,
   "metadata": {},
   "outputs": [
    {
     "name": "stdout",
     "output_type": "stream",
     "text": [
      "Array 2:\n",
      " [[ 0  1  2 20  4  5  6]\n",
      " [ 7  8  9 10 11 12 13]\n",
      " [14 15 16 17 18 19 20]\n",
      " [21 22 23 24 25 26 27]]\n"
     ]
    }
   ],
   "source": [
    "# Modificación del nuevo Array devuelto\n",
    "array2[0, 3] = 20\n",
    "print(\"Array 2:\\n\", array2)"
   ]
  },
  {
   "cell_type": "code",
   "execution_count": 60,
   "metadata": {},
   "outputs": [
    {
     "name": "stdout",
     "output_type": "stream",
     "text": [
      "Array 1:\n",
      " [[ 0  1  2 20]\n",
      " [ 4  5  6  7]\n",
      " [ 8  9 10 11]\n",
      " [12 13 14 15]\n",
      " [16 17 18 19]\n",
      " [20 21 22 23]\n",
      " [24 25 26 27]]\n"
     ]
    }
   ],
   "source": [
    "print(\"Array 1:\\n\", array1)"
   ]
  },
  {
   "cell_type": "code",
   "execution_count": 61,
   "metadata": {},
   "outputs": [
    {
     "name": "stdout",
     "output_type": "stream",
     "text": [
      "Array 1: [ 0  1  2 20  4  5  6  7  8  9 10 11 12 13 14 15 16 17 18 19 20 21 22 23\n",
      " 24 25 26 27]\n"
     ]
    }
   ],
   "source": [
    "# Desenvuelve el Array, devolviendo un nuevo Array de una sola dimension\n",
    "# Importante: El nuevo array apunta a los mismos datos\n",
    "print(\"Array 1:\", array1.ravel())"
   ]
  },
  {
   "cell_type": "markdown",
   "metadata": {},
   "source": [
    "## Operaciones aritméticas con Arrays"
   ]
  },
  {
   "cell_type": "code",
   "execution_count": 81,
   "metadata": {},
   "outputs": [
    {
     "name": "stdout",
     "output_type": "stream",
     "text": [
      "Array 1: [ 2  4  6  8 10 12 14 16]\n",
      "Array 2: [0 1 2 3 4 5 6 7]\n"
     ]
    }
   ],
   "source": [
    "# Creación de dos Arrays unidimensionales\n",
    "array1 = np.arange(2, 18, 4)\n",
    "array2 = np.arange(8)\n",
    "print(\"Array 1:\", array1)\n",
    "print(\"Array 2:\", array2)"
   ]
  },
  {
   "cell_type": "code",
   "execution_count": 82,
   "metadata": {},
   "outputs": [],
   "source": [
    "#para hacer estas operaciones los arrays tienen que tener las mismas dimensiones"
   ]
  },
  {
   "cell_type": "code",
   "execution_count": 88,
   "metadata": {},
   "outputs": [
    {
     "name": "stdout",
     "output_type": "stream",
     "text": [
      "[3 4 5 6 7]\n"
     ]
    }
   ],
   "source": [
    "# Suma\n",
    "print(array1 + array2)"
   ]
  },
  {
   "cell_type": "code",
   "execution_count": 89,
   "metadata": {},
   "outputs": [
    {
     "name": "stdout",
     "output_type": "stream",
     "text": [
      "[-3 -2 -1  0  1]\n"
     ]
    }
   ],
   "source": [
    "# Resta\n",
    "print(array1 - array2)"
   ]
  },
  {
   "cell_type": "code",
   "execution_count": 90,
   "metadata": {},
   "outputs": [
    {
     "name": "stdout",
     "output_type": "stream",
     "text": [
      "[ 0  3  6  9 12]\n"
     ]
    }
   ],
   "source": [
    "# Multiplicacion\n",
    "# Importante: No es una multiplicación de matrices\n",
    "print(array1 * array2)"
   ]
  },
  {
   "cell_type": "markdown",
   "metadata": {},
   "source": [
    "## Broadcasting"
   ]
  },
  {
   "cell_type": "markdown",
   "metadata": {},
   "source": [
    "Si se aplican operaciones aritméticas sobre Arrays que no tienen la misma forma (shape) Numpy aplica un propiedad que se denomina Broadcasting."
   ]
  },
  {
   "cell_type": "code",
   "execution_count": 91,
   "metadata": {},
   "outputs": [
    {
     "name": "stdout",
     "output_type": "stream",
     "text": [
      "Shape Array 1: (5,)\n",
      "Array 1: [0 1 2 3 4]\n",
      "\n",
      "Shape Array 2: (1,)\n",
      "Array 2: [3]\n"
     ]
    }
   ],
   "source": [
    "# Creación de dos Arrays unidimensionales\n",
    "array1 = np.arange(5)\n",
    "array2 = np.array([3])\n",
    "print(\"Shape Array 1:\", array1.shape)\n",
    "print(\"Array 1:\", array1)\n",
    "print()\n",
    "print(\"Shape Array 2:\", array2.shape)\n",
    "print(\"Array 2:\", array2)"
   ]
  },
  {
   "cell_type": "code",
   "execution_count": 92,
   "metadata": {},
   "outputs": [
    {
     "data": {
      "text/plain": [
       "array([3, 4, 5, 6, 7])"
      ]
     },
     "execution_count": 92,
     "metadata": {},
     "output_type": "execute_result"
    }
   ],
   "source": [
    "# Suma de ambos Arrays\n",
    "array1 + array2"
   ]
  },
  {
   "cell_type": "code",
   "execution_count": 93,
   "metadata": {},
   "outputs": [
    {
     "name": "stdout",
     "output_type": "stream",
     "text": [
      "Shape Array 1: (2, 3)\n",
      "Array 1:\n",
      " [[0 1 2]\n",
      " [3 4 5]]\n",
      "\n",
      "Shape Array 2: (3,)\n",
      "Array 2: [ 6 10 14]\n"
     ]
    }
   ],
   "source": [
    "# Creación de dos Arrays multidimensional y unidimensional\n",
    "array1 = np.arange(6)\n",
    "array1.shape = (2, 3)\n",
    "array2 = np.arange(6, 18, 4)\n",
    "print(\"Shape Array 1:\", array1.shape)\n",
    "print(\"Array 1:\\n\", array1)\n",
    "print()\n",
    "print(\"Shape Array 2:\", array2.shape)\n",
    "print(\"Array 2:\", array2)"
   ]
  },
  {
   "cell_type": "code",
   "execution_count": 94,
   "metadata": {},
   "outputs": [
    {
     "data": {
      "text/plain": [
       "array([[ 6, 11, 16],\n",
       "       [ 9, 14, 19]])"
      ]
     },
     "execution_count": 94,
     "metadata": {},
     "output_type": "execute_result"
    }
   ],
   "source": [
    "# Suma de ambos Arrays\n",
    "array1 + array2"
   ]
  },
  {
   "cell_type": "markdown",
   "metadata": {},
   "source": [
    "## Funciones estadísticas sobre Arrays"
   ]
  },
  {
   "cell_type": "code",
   "execution_count": 95,
   "metadata": {},
   "outputs": [
    {
     "name": "stdout",
     "output_type": "stream",
     "text": [
      "Array 1: [ 1  3  5  7  9 11 13 15 17 19]\n"
     ]
    }
   ],
   "source": [
    "# Creación de un Array unidimensional\n",
    "array1 = np.arange(1, 20, 2)\n",
    "print(\"Array 1:\", array1)"
   ]
  },
  {
   "cell_type": "code",
   "execution_count": 96,
   "metadata": {},
   "outputs": [
    {
     "data": {
      "text/plain": [
       "np.float64(10.0)"
      ]
     },
     "execution_count": 96,
     "metadata": {},
     "output_type": "execute_result"
    }
   ],
   "source": [
    "# Media de los elementos del Array\n",
    "array1.mean()"
   ]
  },
  {
   "cell_type": "code",
   "execution_count": 97,
   "metadata": {},
   "outputs": [
    {
     "data": {
      "text/plain": [
       "np.int64(100)"
      ]
     },
     "execution_count": 97,
     "metadata": {},
     "output_type": "execute_result"
    }
   ],
   "source": [
    "# Suma de los elementos del Array\n",
    "array1.sum()"
   ]
  },
  {
   "cell_type": "markdown",
   "metadata": {},
   "source": [
    "Funciones universales eficientes proporcionadas por numpy: **ufunc**"
   ]
  },
  {
   "cell_type": "code",
   "execution_count": 98,
   "metadata": {},
   "outputs": [
    {
     "data": {
      "text/plain": [
       "array([  1,   9,  25,  49,  81, 121, 169, 225, 289, 361])"
      ]
     },
     "execution_count": 98,
     "metadata": {},
     "output_type": "execute_result"
    }
   ],
   "source": [
    "# Cuadrado de los elementos del Array\n",
    "np.square(array1)"
   ]
  },
  {
   "cell_type": "code",
   "execution_count": 99,
   "metadata": {},
   "outputs": [
    {
     "data": {
      "text/plain": [
       "array([1.        , 1.73205081, 2.23606798, 2.64575131, 3.        ,\n",
       "       3.31662479, 3.60555128, 3.87298335, 4.12310563, 4.35889894])"
      ]
     },
     "execution_count": 99,
     "metadata": {},
     "output_type": "execute_result"
    }
   ],
   "source": [
    "# Raiz cuadrada de los elementos del Array\n",
    "np.sqrt(array1)"
   ]
  },
  {
   "cell_type": "code",
   "execution_count": 100,
   "metadata": {},
   "outputs": [
    {
     "data": {
      "text/plain": [
       "array([2.71828183e+00, 2.00855369e+01, 1.48413159e+02, 1.09663316e+03,\n",
       "       8.10308393e+03, 5.98741417e+04, 4.42413392e+05, 3.26901737e+06,\n",
       "       2.41549528e+07, 1.78482301e+08])"
      ]
     },
     "execution_count": 100,
     "metadata": {},
     "output_type": "execute_result"
    }
   ],
   "source": [
    "# Exponencial de los elementos del Array\n",
    "np.exp(array1)"
   ]
  },
  {
   "cell_type": "code",
   "execution_count": 101,
   "metadata": {},
   "outputs": [
    {
     "data": {
      "text/plain": [
       "array([0.        , 1.09861229, 1.60943791, 1.94591015, 2.19722458,\n",
       "       2.39789527, 2.56494936, 2.7080502 , 2.83321334, 2.94443898])"
      ]
     },
     "execution_count": 101,
     "metadata": {},
     "output_type": "execute_result"
    }
   ],
   "source": [
    "# log de los elementos del Array\n",
    "np.log(array1)"
   ]
  },
  {
   "cell_type": "markdown",
   "metadata": {},
   "source": [
    "# Introducción a NumPy"
   ]
  },
  {
   "cell_type": "markdown",
   "metadata": {},
   "source": [
    "[Numpy](https://numpy.org) es una librería fundamental para la computación científica con Python.\n",
    "* Proporciona arrays N-dimensionales\n",
    "* Implementa funciones matemáticas sofisticadas\n",
    "* Proporciona herramientas para integrar C/C++ y Fortran\n",
    "* Proporciona mecanismos para facilitar la realización de tareas relacionadas con álgebra lineal o números aleatorios"
   ]
  },
  {
   "cell_type": "markdown",
   "metadata": {},
   "source": [
    "## Imports"
   ]
  },
  {
   "cell_type": "code",
   "execution_count": 18,
   "metadata": {},
   "outputs": [],
   "source": [
    "import numpy as np"
   ]
  },
  {
   "cell_type": "markdown",
   "metadata": {},
   "source": [
    "## Arrays"
   ]
  },
  {
   "cell_type": "markdown",
   "metadata": {},
   "source": [
    "Un **array** es una estructura de datos que consiste en una colección de elementos (valores o variables), cada uno identificado por al menos un índice o clave. Un array se almacena de modo que la posición de cada elemento se pueda calcular a partir de su tupla de índice mediante una fórmula matemática. El tipo más simple de array es un array lineal, también llamado array unidimensional."
   ]
  },
  {
   "cell_type": "markdown",
   "metadata": {},
   "source": [
    "En numpy:\n",
    "* Cada dimensión se denomina **axis**\n",
    "* El número de dimensiones se denomina **rank**\n",
    "* La lista de dimensiones con su correspondiente longitud se denomina **shape**\n",
    "* El número total de elementos (multiplicación de la longitud de las dimensiones) se denomina **size**"
   ]
  },
  {
   "cell_type": "code",
   "execution_count": 19,
   "metadata": {},
   "outputs": [],
   "source": [
    "a = np.zeros((2,4))"
   ]
  },
  {
   "cell_type": "markdown",
   "metadata": {},
   "source": [
    "_**a**_ es un array:\n",
    "* Con dos **axis**, el primero de longitud 2 y el segundo de longitud 4\n",
    "* Con un **rank** igual a 2\n",
    "* Con un **shape** igual (2, 4)\n",
    "* Con un **size** igual a 8"
   ]
  },
  {
   "cell_type": "code",
   "execution_count": 20,
   "metadata": {},
   "outputs": [
    {
     "data": {
      "text/plain": [
       "(2, 4)"
      ]
     },
     "execution_count": 20,
     "metadata": {},
     "output_type": "execute_result"
    }
   ],
   "source": [
    "a.shape"
   ]
  },
  {
   "cell_type": "code",
   "execution_count": 21,
   "metadata": {},
   "outputs": [
    {
     "data": {
      "text/plain": [
       "2"
      ]
     },
     "execution_count": 21,
     "metadata": {},
     "output_type": "execute_result"
    }
   ],
   "source": [
    "a.ndim"
   ]
  },
  {
   "cell_type": "code",
   "execution_count": 22,
   "metadata": {},
   "outputs": [
    {
     "data": {
      "text/plain": [
       "8"
      ]
     },
     "execution_count": 22,
     "metadata": {},
     "output_type": "execute_result"
    }
   ],
   "source": [
    "a.size"
   ]
  },
  {
   "cell_type": "markdown",
   "metadata": {},
   "source": [
    "## Creación de Arrays"
   ]
  },
  {
   "cell_type": "code",
   "execution_count": 23,
   "metadata": {},
   "outputs": [
    {
     "data": {
      "text/plain": [
       "array([[[0., 0., 0., 0.],\n",
       "        [0., 0., 0., 0.],\n",
       "        [0., 0., 0., 0.]],\n",
       "\n",
       "       [[0., 0., 0., 0.],\n",
       "        [0., 0., 0., 0.],\n",
       "        [0., 0., 0., 0.]]])"
      ]
     },
     "execution_count": 23,
     "metadata": {},
     "output_type": "execute_result"
    }
   ],
   "source": [
    "# Array cuyos valores son todos 0\n",
    "np.zeros((2,3,4))"
   ]
  },
  {
   "cell_type": "code",
   "execution_count": 24,
   "metadata": {},
   "outputs": [
    {
     "data": {
      "text/plain": [
       "array([[[1., 1., 1., 1.],\n",
       "        [1., 1., 1., 1.],\n",
       "        [1., 1., 1., 1.]],\n",
       "\n",
       "       [[1., 1., 1., 1.],\n",
       "        [1., 1., 1., 1.],\n",
       "        [1., 1., 1., 1.]]])"
      ]
     },
     "execution_count": 24,
     "metadata": {},
     "output_type": "execute_result"
    }
   ],
   "source": [
    "# Array cuyos valores son todos 1\n",
    "np.ones((2, 3, 4))"
   ]
  },
  {
   "cell_type": "code",
   "execution_count": 25,
   "metadata": {},
   "outputs": [
    {
     "data": {
      "text/plain": [
       "array([[[10, 10, 10, 10],\n",
       "        [10, 10, 10, 10],\n",
       "        [10, 10, 10, 10]],\n",
       "\n",
       "       [[10, 10, 10, 10],\n",
       "        [10, 10, 10, 10],\n",
       "        [10, 10, 10, 10]]])"
      ]
     },
     "execution_count": 25,
     "metadata": {},
     "output_type": "execute_result"
    }
   ],
   "source": [
    "# Array cuyos valores son todos el valor indicado como segundo parámetro de la función\n",
    "np.full((2, 3, 4), 10)"
   ]
  },
  {
   "cell_type": "code",
   "execution_count": 26,
   "metadata": {},
   "outputs": [
    {
     "data": {
      "text/plain": [
       "array([[[1.15487651e-311, 1.15485527e-311, 1.15486000e-311,\n",
       "         1.15485487e-311, 1.15486000e-311, 1.15485487e-311,\n",
       "         1.15486000e-311, 1.15485478e-311, 1.15485478e-311],\n",
       "        [1.15486000e-311, 1.15485487e-311, 1.15486000e-311,\n",
       "         1.15485487e-311, 1.15486000e-311, 1.15485478e-311,\n",
       "         1.15485478e-311, 1.15486000e-311, 1.15485487e-311],\n",
       "        [1.15486000e-311, 1.15485478e-311, 0.00000000e+000,\n",
       "         2.92747705e-306, 1.15488707e-311, 1.15485507e-311,\n",
       "         0.00000000e+000, 0.00000000e+000, 0.00000000e+000]],\n",
       "\n",
       "       [[0.00000000e+000, 0.00000000e+000, 0.00000000e+000,\n",
       "         0.00000000e+000, 0.00000000e+000, 0.00000000e+000,\n",
       "         0.00000000e+000, 0.00000000e+000, 0.00000000e+000],\n",
       "        [0.00000000e+000, 0.00000000e+000, 0.00000000e+000,\n",
       "         0.00000000e+000, 0.00000000e+000, 0.00000000e+000,\n",
       "         0.00000000e+000, 0.00000000e+000, 0.00000000e+000],\n",
       "        [0.00000000e+000, 0.00000000e+000, 0.00000000e+000,\n",
       "         0.00000000e+000, 0.00000000e+000, 0.00000000e+000,\n",
       "         0.00000000e+000, 0.00000000e+000, 0.00000000e+000]]])"
      ]
     },
     "execution_count": 26,
     "metadata": {},
     "output_type": "execute_result"
    }
   ],
   "source": [
    "# El resultado de np.empty no es predecible \n",
    "# Inicializa los valores del array con lo que haya en memoria en ese momento\n",
    "np.empty((2, 3, 9))"
   ]
  },
  {
   "cell_type": "code",
   "execution_count": 27,
   "metadata": {},
   "outputs": [
    {
     "data": {
      "text/plain": [
       "array([[1, 2, 3],\n",
       "       [4, 5, 6]])"
      ]
     },
     "execution_count": 27,
     "metadata": {},
     "output_type": "execute_result"
    }
   ],
   "source": [
    "# Inicializacion del array utilizando un array de Python\n",
    "b = np.array([[1, 2, 3], [4, 5, 6]])\n",
    "b"
   ]
  },
  {
   "cell_type": "code",
   "execution_count": 28,
   "metadata": {},
   "outputs": [
    {
     "data": {
      "text/plain": [
       "(2, 3)"
      ]
     },
     "execution_count": 28,
     "metadata": {},
     "output_type": "execute_result"
    }
   ],
   "source": [
    "b.shape"
   ]
  },
  {
   "cell_type": "code",
   "execution_count": 29,
   "metadata": {},
   "outputs": [
    {
     "name": "stdout",
     "output_type": "stream",
     "text": [
      "[0.         0.66666667 1.33333333 2.         2.66666667 3.33333333\n",
      " 4.         4.66666667 5.33333333 6.        ]\n"
     ]
    }
   ],
   "source": [
    "# Creación del array utilizando una función basada en rangos, es una progrecion proporcional\n",
    "# (minimo, maximo, número elementos del array)\n",
    "print(np.linspace(0, 6, 10))"
   ]
  },
  {
   "cell_type": "code",
   "execution_count": 33,
   "metadata": {},
   "outputs": [
    {
     "data": {
      "text/plain": [
       "array([[[3.27544373e-01, 1.30738856e-01, 5.30003796e-05, 2.94001269e-01],\n",
       "        [5.31319439e-01, 2.48682679e-01, 5.45787232e-01, 5.79445210e-01],\n",
       "        [9.77832491e-02, 8.71189367e-03, 9.37152176e-01, 5.41256747e-01]],\n",
       "\n",
       "       [[6.10536391e-01, 2.27182338e-01, 4.20925867e-02, 6.10661207e-01],\n",
       "        [9.85907480e-01, 2.33288307e-01, 5.49149091e-01, 3.39521132e-01],\n",
       "        [2.81554339e-01, 3.99087466e-01, 4.31638744e-01, 7.99116201e-01]]])"
      ]
     },
     "execution_count": 33,
     "metadata": {},
     "output_type": "execute_result"
    }
   ],
   "source": [
    "# Inicialización del array con valores aleatorios\n",
    "np.random.rand(2, 3, 4)"
   ]
  },
  {
   "cell_type": "code",
   "execution_count": 37,
   "metadata": {},
   "outputs": [
    {
     "data": {
      "text/plain": [
       "array([[ 1.50294879, -0.08747373, -0.06102086, -1.01397384],\n",
       "       [-2.53517567,  0.09450028, -0.90907671, -0.84625351]])"
      ]
     },
     "execution_count": 37,
     "metadata": {},
     "output_type": "execute_result"
    }
   ],
   "source": [
    "# Inicialización del array con valores aleatorios conforme a una distribución normal\n",
    "np.random.randn(2, 4)"
   ]
  },
  {
   "cell_type": "code",
   "execution_count": 40,
   "metadata": {},
   "outputs": [
    {
     "data": {
      "image/png": "[encoded data removed]",
      "text/plain": [
       "<Figure size 640x480 with 1 Axes>"
      ]
     },
     "metadata": {},
     "output_type": "display_data"
    }
   ],
   "source": [
    "%matplotlib inline\n",
    "import matplotlib.pyplot as plt\n",
    "\n",
    "c = np.random.randn(1000000)\n",
    "\n",
    "plt.hist(c, bins=200)\n",
    "plt.show()"
   ]
  },
  {
   "cell_type": "code",
   "execution_count": 41,
   "metadata": {},
   "outputs": [
    {
     "data": {
      "text/plain": [
       "array([[ 0.,  2.,  4.,  6.,  8.],\n",
       "       [ 1.,  3.,  5.,  7.,  9.],\n",
       "       [ 2.,  4.,  6.,  8., 10.]])"
      ]
     },
     "execution_count": 41,
     "metadata": {},
     "output_type": "execute_result"
    }
   ],
   "source": [
    "# Inicialización del Array utilizando una función personalizada\n",
    "\n",
    "def func(x, y):\n",
    "    return x + 2 * y\n",
    "\n",
    "np.fromfunction(func, (3, 5))"
   ]
  },
  {
   "cell_type": "markdown",
   "metadata": {},
   "source": [
    "## Acceso a los elementos de un array"
   ]
  },
  {
   "cell_type": "markdown",
   "metadata": {},
   "source": [
    "### Array unidimensional"
   ]
  },
  {
   "cell_type": "code",
   "execution_count": 42,
   "metadata": {},
   "outputs": [
    {
     "name": "stdout",
     "output_type": "stream",
     "text": [
      "Shape: (6,)\n",
      "Array_uni: [ 1  3  5  7  9 11]\n"
     ]
    }
   ],
   "source": [
    "# Creación de un Array unidimensional\n",
    "array_uni = np.array([1, 3, 5, 7, 9, 11])\n",
    "print(\"Shape:\", array_uni.shape)\n",
    "print(\"Array_uni:\", array_uni)"
   ]
  },
  {
   "cell_type": "code",
   "execution_count": 43,
   "metadata": {},
   "outputs": [
    {
     "data": {
      "text/plain": [
       "np.int64(9)"
      ]
     },
     "execution_count": 43,
     "metadata": {},
     "output_type": "execute_result"
    }
   ],
   "source": [
    "# Accediendo al quinto elemento del Array\n",
    "array_uni[4]"
   ]
  },
  {
   "cell_type": "code",
   "execution_count": 44,
   "metadata": {},
   "outputs": [
    {
     "data": {
      "text/plain": [
       "array([5, 7])"
      ]
     },
     "execution_count": 44,
     "metadata": {},
     "output_type": "execute_result"
    }
   ],
   "source": [
    "# Accediendo al tercer y cuarto elemento del Array\n",
    "array_uni[2:4]"
   ]
  },
  {
   "cell_type": "code",
   "execution_count": 45,
   "metadata": {},
   "outputs": [
    {
     "data": {
      "text/plain": [
       "array([1, 7])"
      ]
     },
     "execution_count": 45,
     "metadata": {},
     "output_type": "execute_result"
    }
   ],
   "source": [
    "# Accediendo a los elementos 0, 3 y 5 del Array\n",
    "array_uni[0::3]"
   ]
  },
  {
   "cell_type": "markdown",
   "metadata": {},
   "source": [
    "### Array multidimensional"
   ]
  },
  {
   "cell_type": "code",
   "execution_count": 47,
   "metadata": {},
   "outputs": [
    {
     "name": "stdout",
     "output_type": "stream",
     "text": [
      "Shape: (2, 4)\n",
      "Array_multi:\n",
      " [[1 2 3 4]\n",
      " [5 6 7 8]]\n"
     ]
    }
   ],
   "source": [
    "# Creación de un Array multidimensional\n",
    "array_multi = np.array([[1, 2, 3, 4], [5, 6, 7, 8]])\n",
    "print(\"Shape:\", array_multi.shape)\n",
    "print(\"Array_multi:\\n\", array_multi)"
   ]
  },
  {
   "cell_type": "code",
   "execution_count": 48,
   "metadata": {},
   "outputs": [
    {
     "data": {
      "text/plain": [
       "np.int64(4)"
      ]
     },
     "execution_count": 48,
     "metadata": {},
     "output_type": "execute_result"
    }
   ],
   "source": [
    "# Accediendo al cuarto elemento del Array\n",
    "array_multi[0, 3]"
   ]
  },
  {
   "cell_type": "code",
   "execution_count": 49,
   "metadata": {},
   "outputs": [
    {
     "data": {
      "text/plain": [
       "array([5, 6, 7, 8])"
      ]
     },
     "execution_count": 49,
     "metadata": {},
     "output_type": "execute_result"
    }
   ],
   "source": [
    "# Accediendo a la segunda fila del Array\n",
    "array_multi[1,:]"
   ]
  },
  {
   "cell_type": "code",
   "execution_count": 50,
   "metadata": {},
   "outputs": [
    {
     "data": {
      "text/plain": [
       "array([3, 7])"
      ]
     },
     "execution_count": 50,
     "metadata": {},
     "output_type": "execute_result"
    }
   ],
   "source": [
    "# Accediendo al tercer elemento de las dos primeras filas del Array\n",
    "array_multi[0:2, 2]"
   ]
  },
  {
   "cell_type": "markdown",
   "metadata": {},
   "source": [
    "## Modificación de un Array"
   ]
  },
  {
   "cell_type": "code",
   "execution_count": 51,
   "metadata": {},
   "outputs": [
    {
     "name": "stdout",
     "output_type": "stream",
     "text": [
      "Shape: (28,)\n",
      "Array 1: [ 0  1  2  3  4  5  6  7  8  9 10 11 12 13 14 15 16 17 18 19 20 21 22 23\n",
      " 24 25 26 27]\n"
     ]
    }
   ],
   "source": [
    "# Creación de un Array unidimensional inicializado con el rango de elementos 0-27\n",
    "array1 = np.arange(28)\n",
    "print(\"Shape:\", array1.shape)\n",
    "print(\"Array 1:\", array1)"
   ]
  },
  {
   "cell_type": "code",
   "execution_count": 56,
   "metadata": {},
   "outputs": [
    {
     "name": "stdout",
     "output_type": "stream",
     "text": [
      "Shape: (7, 4)\n",
      "Array 1:\n",
      " [[ 0  1  2  3]\n",
      " [ 4  5  6  7]\n",
      " [ 8  9 10 11]\n",
      " [12 13 14 15]\n",
      " [16 17 18 19]\n",
      " [20 21 22 23]\n",
      " [24 25 26 27]]\n"
     ]
    }
   ],
   "source": [
    "# Cambiar las dimensiones del Array y sus longitudes\n",
    "array1.shape = (7, 4)\n",
    "print(\"Shape:\", array1.shape)\n",
    "print(\"Array 1:\\n\", array1)"
   ]
  },
  {
   "cell_type": "code",
   "execution_count": 58,
   "metadata": {},
   "outputs": [
    {
     "name": "stdout",
     "output_type": "stream",
     "text": [
      "Shape: (4, 7)\n",
      "Array 2:\n",
      " [[ 0  1  2  3  4  5  6]\n",
      " [ 7  8  9 10 11 12 13]\n",
      " [14 15 16 17 18 19 20]\n",
      " [21 22 23 24 25 26 27]]\n"
     ]
    }
   ],
   "source": [
    "# El ejemplo anterior devuelve un nuevo Array que apunta a los mismos datos. \n",
    "# Importante: Modificaciones en un Array, modificaran el otro Array\n",
    "array2 = array1.reshape(4, 7)\n",
    "print(\"Shape:\", array2.shape)\n",
    "print(\"Array 2:\\n\", array2)"
   ]
  },
  {
   "cell_type": "code",
   "execution_count": 59,
   "metadata": {},
   "outputs": [
    {
     "name": "stdout",
     "output_type": "stream",
     "text": [
      "Array 2:\n",
      " [[ 0  1  2 20  4  5  6]\n",
      " [ 7  8  9 10 11 12 13]\n",
      " [14 15 16 17 18 19 20]\n",
      " [21 22 23 24 25 26 27]]\n"
     ]
    }
   ],
   "source": [
    "# Modificación del nuevo Array devuelto\n",
    "array2[0, 3] = 20\n",
    "print(\"Array 2:\\n\", array2)"
   ]
  },
  {
   "cell_type": "code",
   "execution_count": 60,
   "metadata": {},
   "outputs": [
    {
     "name": "stdout",
     "output_type": "stream",
     "text": [
      "Array 1:\n",
      " [[ 0  1  2 20]\n",
      " [ 4  5  6  7]\n",
      " [ 8  9 10 11]\n",
      " [12 13 14 15]\n",
      " [16 17 18 19]\n",
      " [20 21 22 23]\n",
      " [24 25 26 27]]\n"
     ]
    }
   ],
   "source": [
    "print(\"Array 1:\\n\", array1)"
   ]
  },
  {
   "cell_type": "code",
   "execution_count": 61,
   "metadata": {},
   "outputs": [
    {
     "name": "stdout",
     "output_type": "stream",
     "text": [
      "Array 1: [ 0  1  2 20  4  5  6  7  8  9 10 11 12 13 14 15 16 17 18 19 20 21 22 23\n",
      " 24 25 26 27]\n"
     ]
    }
   ],
   "source": [
    "# Desenvuelve el Array, devolviendo un nuevo Array de una sola dimension\n",
    "# Importante: El nuevo array apunta a los mismos datos\n",
    "print(\"Array 1:\", array1.ravel())"
   ]
  },
  {
   "cell_type": "markdown",
   "metadata": {},
   "source": [
    "## Operaciones aritméticas con Arrays"
   ]
  },
  {
   "cell_type": "code",
   "execution_count": 81,
   "metadata": {},
   "outputs": [
    {
     "name": "stdout",
     "output_type": "stream",
     "text": [
      "Array 1: [ 2  4  6  8 10 12 14 16]\n",
      "Array 2: [0 1 2 3 4 5 6 7]\n"
     ]
    }
   ],
   "source": [
    "# Creación de dos Arrays unidimensionales\n",
    "array1 = np.arange(2, 18, 4)\n",
    "array2 = np.arange(8)\n",
    "print(\"Array 1:\", array1)\n",
    "print(\"Array 2:\", array2)"
   ]
  },
  {
   "cell_type": "code",
   "execution_count": 82,
   "metadata": {},
   "outputs": [],
   "source": [
    "#para hacer estas operaciones los arrays tienen que tener las mismas dimensiones"
   ]
  },
  {
   "cell_type": "code",
   "execution_count": 88,
   "metadata": {},
   "outputs": [
    {
     "name": "stdout",
     "output_type": "stream",
     "text": [
      "[3 4 5 6 7]\n"
     ]
    }
   ],
   "source": [
    "# Suma\n",
    "print(array1 + array2)"
   ]
  },
  {
   "cell_type": "code",
   "execution_count": 89,
   "metadata": {},
   "outputs": [
    {
     "name": "stdout",
     "output_type": "stream",
     "text": [
      "[-3 -2 -1  0  1]\n"
     ]
    }
   ],
   "source": [
    "# Resta\n",
    "print(array1 - array2)"
   ]
  },
  {
   "cell_type": "code",
   "execution_count": 90,
   "metadata": {},
   "outputs": [
    {
     "name": "stdout",
     "output_type": "stream",
     "text": [
      "[ 0  3  6  9 12]\n"
     ]
    }
   ],
   "source": [
    "# Multiplicacion\n",
    "# Importante: No es una multiplicación de matrices\n",
    "print(array1 * array2)"
   ]
  },
  {
   "cell_type": "markdown",
   "metadata": {},
   "source": [
    "## Broadcasting"
   ]
  },
  {
   "cell_type": "markdown",
   "metadata": {},
   "source": [
    "Si se aplican operaciones aritméticas sobre Arrays que no tienen la misma forma (shape) Numpy aplica un propiedad que se denomina Broadcasting."
   ]
  },
  {
   "cell_type": "code",
   "execution_count": 91,
   "metadata": {},
   "outputs": [
    {
     "name": "stdout",
     "output_type": "stream",
     "text": [
      "Shape Array 1: (5,)\n",
      "Array 1: [0 1 2 3 4]\n",
      "\n",
      "Shape Array 2: (1,)\n",
      "Array 2: [3]\n"
     ]
    }
   ],
   "source": [
    "# Creación de dos Arrays unidimensionales\n",
    "array1 = np.arange(5)\n",
    "array2 = np.array([3])\n",
    "print(\"Shape Array 1:\", array1.shape)\n",
    "print(\"Array 1:\", array1)\n",
    "print()\n",
    "print(\"Shape Array 2:\", array2.shape)\n",
    "print(\"Array 2:\", array2)"
   ]
  },
  {
   "cell_type": "code",
   "execution_count": 92,
   "metadata": {},
   "outputs": [
    {
     "data": {
      "text/plain": [
       "array([3, 4, 5, 6, 7])"
      ]
     },
     "execution_count": 92,
     "metadata": {},
     "output_type": "execute_result"
    }
   ],
   "source": [
    "# Suma de ambos Arrays\n",
    "array1 + array2"
   ]
  },
  {
   "cell_type": "code",
   "execution_count": 93,
   "metadata": {},
   "outputs": [
    {
     "name": "stdout",
     "output_type": "stream",
     "text": [
      "Shape Array 1: (2, 3)\n",
      "Array 1:\n",
      " [[0 1 2]\n",
      " [3 4 5]]\n",
      "\n",
      "Shape Array 2: (3,)\n",
      "Array 2: [ 6 10 14]\n"
     ]
    }
   ],
   "source": [
    "# Creación de dos Arrays multidimensional y unidimensional\n",
    "array1 = np.arange(6)\n",
    "array1.shape = (2, 3)\n",
    "array2 = np.arange(6, 18, 4)\n",
    "print(\"Shape Array 1:\", array1.shape)\n",
    "print(\"Array 1:\\n\", array1)\n",
    "print()\n",
    "print(\"Shape Array 2:\", array2.shape)\n",
    "print(\"Array 2:\", array2)"
   ]
  },
  {
   "cell_type": "code",
   "execution_count": 94,
   "metadata": {},
   "outputs": [
    {
     "data": {
      "text/plain": [
       "array([[ 6, 11, 16],\n",
       "       [ 9, 14, 19]])"
      ]
     },
     "execution_count": 94,
     "metadata": {},
     "output_type": "execute_result"
    }
   ],
   "source": [
    "# Suma de ambos Arrays\n",
    "array1 + array2"
   ]
  },
  {
   "cell_type": "markdown",
   "metadata": {},
   "source": [
    "## Funciones estadísticas sobre Arrays"
   ]
  },
  {
   "cell_type": "code",
   "execution_count": 95,
   "metadata": {},
   "outputs": [
    {
     "name": "stdout",
     "output_type": "stream",
     "text": [
      "Array 1: [ 1  3  5  7  9 11 13 15 17 19]\n"
     ]
    }
   ],
   "source": [
    "# Creación de un Array unidimensional\n",
    "array1 = np.arange(1, 20, 2)\n",
    "print(\"Array 1:\", array1)"
   ]
  },
  {
   "cell_type": "code",
   "execution_count": 96,
   "metadata": {},
   "outputs": [
    {
     "data": {
      "text/plain": [
       "np.float64(10.0)"
      ]
     },
     "execution_count": 96,
     "metadata": {},
     "output_type": "execute_result"
    }
   ],
   "source": [
    "# Media de los elementos del Array\n",
    "array1.mean()"
   ]
  },
  {
   "cell_type": "code",
   "execution_count": 97,
   "metadata": {},
   "outputs": [
    {
     "data": {
      "text/plain": [
       "np.int64(100)"
      ]
     },
     "execution_count": 97,
     "metadata": {},
     "output_type": "execute_result"
    }
   ],
   "source": [
    "# Suma de los elementos del Array\n",
    "array1.sum()"
   ]
  },
  {
   "cell_type": "markdown",
   "metadata": {},
   "source": [
    "Funciones universales eficientes proporcionadas por numpy: **ufunc**"
   ]
  },
  {
   "cell_type": "code",
   "execution_count": 98,
   "metadata": {},
   "outputs": [
    {
     "data": {
      "text/plain": [
       "array([  1,   9,  25,  49,  81, 121, 169, 225, 289, 361])"
      ]
     },
     "execution_count": 98,
     "metadata": {},
     "output_type": "execute_result"
    }
   ],
   "source": [
    "# Cuadrado de los elementos del Array\n",
    "np.square(array1)"
   ]
  },
  {
   "cell_type": "code",
   "execution_count": 99,
   "metadata": {},
   "outputs": [
    {
     "data": {
      "text/plain": [
       "array([1.        , 1.73205081, 2.23606798, 2.64575131, 3.        ,\n",
       "       3.31662479, 3.60555128, 3.87298335, 4.12310563, 4.35889894])"
      ]
     },
     "execution_count": 99,
     "metadata": {},
     "output_type": "execute_result"
    }
   ],
   "source": [
    "# Raiz cuadrada de los elementos del Array\n",
    "np.sqrt(array1)"
   ]
  },
  {
   "cell_type": "code",
   "execution_count": 100,
   "metadata": {},
   "outputs": [
    {
     "data": {
      "text/plain": [
       "array([2.71828183e+00, 2.00855369e+01, 1.48413159e+02, 1.09663316e+03,\n",
       "       8.10308393e+03, 5.98741417e+04, 4.42413392e+05, 3.26901737e+06,\n",
       "       2.41549528e+07, 1.78482301e+08])"
      ]
     },
     "execution_count": 100,
     "metadata": {},
     "output_type": "execute_result"
    }
   ],
   "source": [
    "# Exponencial de los elementos del Array\n",
    "np.exp(array1)"
   ]
  },
  {
   "cell_type": "code",
   "execution_count": 101,
   "metadata": {},
   "outputs": [
    {
     "data": {
      "text/plain": [
       "array([0.        , 1.09861229, 1.60943791, 1.94591015, 2.19722458,\n",
       "       2.39789527, 2.56494936, 2.7080502 , 2.83321334, 2.94443898])"
      ]
     },
     "execution_count": 101,
     "metadata": {},
     "output_type": "execute_result"
    }
   ],
   "source": [
    "# log de los elementos del Array\n",
    "np.log(array1)"
   ]
  }
 ],
 "metadata": {
  "kernelspec": {
   "display_name": "Python 3 (ipykernel)",
   "language": "python",
   "name": "python3"
  },
  "language_info": {
   "codemirror_mode": {
    "name": "ipython",
    "version": 3
   },
   "file_extension": ".py",
   "mimetype": "text/x-python",
   "name": "python",
   "nbconvert_exporter": "python",
   "pygments_lexer": "ipython3",
   "version": "3.9.21"
  }
 },
 "nbformat": 4,
 "nbformat_minor": 4
}
